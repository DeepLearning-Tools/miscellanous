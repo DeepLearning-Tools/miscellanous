{
  "nbformat": 4,
  "nbformat_minor": 0,
  "metadata": {
    "colab": {
      "name": "cnn_estimator.ipynb",
      "version": "0.3.2",
      "provenance": [],
      "collapsed_sections": [],
      "toc_visible": true,
      "include_colab_link": true
    },
    "kernelspec": {
      "name": "python3",
      "display_name": "Python 3"
    },
    "accelerator": "GPU"
  },
  "cells": [
    {
      "cell_type": "markdown",
      "metadata": {
        "id": "view-in-github",
        "colab_type": "text"
      },
      "source": [
        "<a href=\"https://colab.research.google.com/github/mancap314/miscellanous/blob/master/cnn_estimator.ipynb\" target=\"_parent\"><img src=\"https://colab.research.google.com/assets/colab-badge.svg\" alt=\"Open In Colab\"/></a>"
      ]
    },
    {
      "metadata": {
        "id": "j8zsLdH2dQOK",
        "colab_type": "text"
      },
      "cell_type": "markdown",
      "source": [
        "# Creating a tf `Estimator` from a Keras model"
      ]
    },
    {
      "metadata": {
        "id": "vewF-uytAmup",
        "colab_type": "code",
        "colab": {}
      },
      "cell_type": "code",
      "source": [
        "from __future__ import absolute_import, division, print_function\n",
        "\n",
        "import tensorflow as tf\n",
        "import numpy as np\n",
        "\n"
      ],
      "execution_count": 0,
      "outputs": []
    },
    {
      "metadata": {
        "id": "og8Zx7Kf3quZ",
        "colab_type": "text"
      },
      "cell_type": "markdown",
      "source": [
        "## Step 1: Importing data"
      ]
    },
    {
      "metadata": {
        "id": "W13nvmj4CBnx",
        "colab_type": "code",
        "outputId": "42bf8311-9d91-4e34-cbe6-c355f5c74a00",
        "colab": {
          "base_uri": "https://localhost:8080/",
          "height": 54
        }
      },
      "cell_type": "code",
      "source": [
        "# 1.0: Define some constants first\n",
        "img_rows, img_cols = 28, 28\n",
        "input_shape = (img_rows, img_cols, 1)\n",
        "num_classes = 10\n",
        "\n",
        "# 1.1: Import data\n",
        "((train_data, train_labels), (eval_data, eval_labels)) = tf.keras.datasets.mnist.load_data()\n",
        "\n",
        "# 1.2: Format data\n",
        "# convert class vectors to binary class matrices\n",
        "train_labels = tf.keras.utils.to_categorical(train_labels, num_classes)\n",
        "eval_labels = tf.keras.utils.to_categorical(eval_labels, num_classes)\n",
        "\n",
        "train_data = train_data / np.float32(255.0)\n",
        "eval_data = eval_data /np.float32(255.0)\n",
        "\n",
        "train_data = train_data.reshape(train_data.shape[0], img_rows, img_cols, 1)\n",
        "eval_data = eval_data.reshape(eval_data.shape[0], img_rows, img_cols, 1)\n"
      ],
      "execution_count": 0,
      "outputs": [
        {
          "output_type": "stream",
          "text": [
            "Downloading data from https://storage.googleapis.com/tensorflow/tf-keras-datasets/mnist.npz\n",
            "11493376/11490434 [==============================] - 0s 0us/step\n"
          ],
          "name": "stdout"
        }
      ]
    },
    {
      "metadata": {
        "id": "N9_o8E2x-C98",
        "colab_type": "text"
      },
      "cell_type": "markdown",
      "source": [
        "##  Step 2: Build model"
      ]
    },
    {
      "metadata": {
        "id": "7WSZYemzYqwN",
        "colab_type": "code",
        "outputId": "4f475357-e065-40c1-9bfe-b92ea77e4501",
        "colab": {
          "base_uri": "https://localhost:8080/",
          "height": 643
        }
      },
      "cell_type": "code",
      "source": [
        "# 2.1: Define model\n",
        "model_cnn_0 = tf.keras.models.Sequential()\n",
        "model_cnn_0.add(tf.keras.layers.Conv2D(32, kernel_size=(3, 3),\n",
        "                 activation='relu',\n",
        "                 input_shape=input_shape,\n",
        "                 name='x'\n",
        "                ))\n",
        "model_cnn_0.add(tf.keras.layers.Conv2D(64, (3, 3), activation='relu'))\n",
        "model_cnn_0.add(tf.keras.layers.MaxPooling2D(pool_size=(2, 2)))\n",
        "model_cnn_0.add(tf.keras.layers.Dropout(0.25))\n",
        "model_cnn_0.add(tf.keras.layers.Flatten())\n",
        "model_cnn_0.add(tf.keras.layers.Dense(128, activation='relu'))\n",
        "model_cnn_0.add(tf.keras.layers.Dropout(0.5))\n",
        "model_cnn_0.add(tf.keras.layers.Dense(num_classes, activation='softmax'))\n",
        "\n",
        "model_cnn_0.summary()\n",
        "\n",
        "# 2.2: Compile model\n",
        "model_cnn_0.compile(loss=tf.keras.losses.categorical_crossentropy,\n",
        "                    optimizer=tf.keras.optimizers.Adadelta(),\n",
        "                    metrics=['accuracy'])\n",
        "\n",
        "\n",
        "# 2.3: Transform the keras `model` into a tf `Estimator`\n",
        "est_cnn_0 = tf.keras.estimator.model_to_estimator(keras_model=model_cnn_0)\n",
        "\n"
      ],
      "execution_count": 0,
      "outputs": [
        {
          "output_type": "stream",
          "text": [
            "_________________________________________________________________\n",
            "Layer (type)                 Output Shape              Param #   \n",
            "=================================================================\n",
            "x (Conv2D)                   (None, 26, 26, 32)        320       \n",
            "_________________________________________________________________\n",
            "conv2d_19 (Conv2D)           (None, 24, 24, 64)        18496     \n",
            "_________________________________________________________________\n",
            "max_pooling2d_4 (MaxPooling2 (None, 12, 12, 64)        0         \n",
            "_________________________________________________________________\n",
            "dropout_8 (Dropout)          (None, 12, 12, 64)        0         \n",
            "_________________________________________________________________\n",
            "flatten_10 (Flatten)         (None, 9216)              0         \n",
            "_________________________________________________________________\n",
            "dense_13 (Dense)             (None, 128)               1179776   \n",
            "_________________________________________________________________\n",
            "dropout_9 (Dropout)          (None, 128)               0         \n",
            "_________________________________________________________________\n",
            "dense_14 (Dense)             (None, 10)                1290      \n",
            "=================================================================\n",
            "Total params: 1,199,882\n",
            "Trainable params: 1,199,882\n",
            "Non-trainable params: 0\n",
            "_________________________________________________________________\n",
            "INFO:tensorflow:Using default config.\n",
            "WARNING:tensorflow:Using temporary folder as model directory: /tmp/tmpvm16sdmt\n",
            "INFO:tensorflow:Using the Keras model provided.\n",
            "INFO:tensorflow:Using config: {'_model_dir': '/tmp/tmpvm16sdmt', '_tf_random_seed': None, '_save_summary_steps': 100, '_save_checkpoints_steps': None, '_save_checkpoints_secs': 600, '_session_config': allow_soft_placement: true\n",
            "graph_options {\n",
            "  rewrite_options {\n",
            "    meta_optimizer_iterations: ONE\n",
            "  }\n",
            "}\n",
            ", '_keep_checkpoint_max': 5, '_keep_checkpoint_every_n_hours': 10000, '_log_step_count_steps': 100, '_train_distribute': None, '_device_fn': None, '_protocol': None, '_eval_distribute': None, '_experimental_distribute': None, '_service': None, '_cluster_spec': <tensorflow.python.training.server_lib.ClusterSpec object at 0x7f84f0939898>, '_task_type': 'worker', '_task_id': 0, '_global_id_in_cluster': 0, '_master': '', '_evaluation_master': '', '_is_chief': True, '_num_ps_replicas': 0, '_num_worker_replicas': 1}\n"
          ],
          "name": "stdout"
        }
      ]
    },
    {
      "metadata": {
        "id": "MMOrm4pJXkn2",
        "colab_type": "text"
      },
      "cell_type": "markdown",
      "source": [
        ""
      ]
    },
    {
      "metadata": {
        "id": "4WPq82PAFcPN",
        "colab_type": "text"
      },
      "cell_type": "markdown",
      "source": [
        "**bold text**## Step 3: Train Model"
      ]
    },
    {
      "metadata": {
        "id": "1eeOTnC-hdro",
        "colab_type": "code",
        "outputId": "5b09fe56-dd39-4f85-d9fe-b275a5ddf5bc",
        "colab": {
          "base_uri": "https://localhost:8080/",
          "height": 1525
        }
      },
      "cell_type": "code",
      "source": [
        "# 3.1: Define training input function\n",
        "train_input_fn = tf.estimator.inputs.numpy_input_fn(\n",
        "    x={'x_input': train_data},  # 'x_input' because name of 1st layer is 'x', `model_cnn_0.input_names`\n",
        "    y=train_labels,\n",
        "    batch_size=100,\n",
        "    num_epochs=None,\n",
        "    shuffle=True)\n",
        "\n",
        "# 3.2 Train estimator\n",
        "est_cnn_0.train(input_fn=train_input_fn, steps=2000)\n"
      ],
      "execution_count": 0,
      "outputs": [
        {
          "output_type": "stream",
          "text": [
            "INFO:tensorflow:Calling model_fn.\n",
            "INFO:tensorflow:Done calling model_fn.\n",
            "INFO:tensorflow:Warm-starting with WarmStartSettings: WarmStartSettings(ckpt_to_initialize_from='/tmp/tmpvm16sdmt/keras/keras_model.ckpt', vars_to_warm_start='.*', var_name_to_vocab_info={}, var_name_to_prev_var_name={})\n",
            "INFO:tensorflow:Warm-starting from: ('/tmp/tmpvm16sdmt/keras/keras_model.ckpt',)\n",
            "INFO:tensorflow:Warm-starting variable: x/kernel; prev_var_name: Unchanged\n",
            "INFO:tensorflow:Warm-starting variable: x/bias; prev_var_name: Unchanged\n",
            "INFO:tensorflow:Warm-starting variable: conv2d_19/kernel; prev_var_name: Unchanged\n",
            "INFO:tensorflow:Warm-starting variable: conv2d_19/bias; prev_var_name: Unchanged\n",
            "INFO:tensorflow:Warm-starting variable: dense_13/kernel; prev_var_name: Unchanged\n",
            "INFO:tensorflow:Warm-starting variable: dense_13/bias; prev_var_name: Unchanged\n",
            "INFO:tensorflow:Warm-starting variable: dense_14/kernel; prev_var_name: Unchanged\n",
            "INFO:tensorflow:Warm-starting variable: dense_14/bias; prev_var_name: Unchanged\n",
            "INFO:tensorflow:Warm-starting variable: Adadelta/lr; prev_var_name: Unchanged\n",
            "INFO:tensorflow:Warm-starting variable: Adadelta/decay; prev_var_name: Unchanged\n",
            "INFO:tensorflow:Warm-starting variable: Adadelta/iterations; prev_var_name: Unchanged\n",
            "INFO:tensorflow:Warm-starting variable: training/Adadelta/Variable; prev_var_name: Unchanged\n",
            "INFO:tensorflow:Warm-starting variable: training/Adadelta/Variable_1; prev_var_name: Unchanged\n",
            "INFO:tensorflow:Warm-starting variable: training/Adadelta/Variable_2; prev_var_name: Unchanged\n",
            "INFO:tensorflow:Warm-starting variable: training/Adadelta/Variable_3; prev_var_name: Unchanged\n",
            "INFO:tensorflow:Warm-starting variable: training/Adadelta/Variable_4; prev_var_name: Unchanged\n",
            "INFO:tensorflow:Warm-starting variable: training/Adadelta/Variable_5; prev_var_name: Unchanged\n",
            "INFO:tensorflow:Warm-starting variable: training/Adadelta/Variable_6; prev_var_name: Unchanged\n",
            "INFO:tensorflow:Warm-starting variable: training/Adadelta/Variable_7; prev_var_name: Unchanged\n",
            "INFO:tensorflow:Warm-starting variable: training/Adadelta/Variable_8; prev_var_name: Unchanged\n",
            "INFO:tensorflow:Warm-starting variable: training/Adadelta/Variable_9; prev_var_name: Unchanged\n",
            "INFO:tensorflow:Warm-starting variable: training/Adadelta/Variable_10; prev_var_name: Unchanged\n",
            "INFO:tensorflow:Warm-starting variable: training/Adadelta/Variable_11; prev_var_name: Unchanged\n",
            "INFO:tensorflow:Warm-starting variable: training/Adadelta/Variable_12; prev_var_name: Unchanged\n",
            "INFO:tensorflow:Warm-starting variable: training/Adadelta/Variable_13; prev_var_name: Unchanged\n",
            "INFO:tensorflow:Warm-starting variable: training/Adadelta/Variable_14; prev_var_name: Unchanged\n",
            "INFO:tensorflow:Warm-starting variable: training/Adadelta/Variable_15; prev_var_name: Unchanged\n",
            "INFO:tensorflow:Create CheckpointSaverHook.\n",
            "INFO:tensorflow:Graph was finalized.\n",
            "INFO:tensorflow:Running local_init_op.\n",
            "INFO:tensorflow:Done running local_init_op.\n",
            "WARNING:tensorflow:From /usr/local/lib/python3.6/dist-packages/tensorflow/python/training/monitored_session.py:809: start_queue_runners (from tensorflow.python.training.queue_runner_impl) is deprecated and will be removed in a future version.\n",
            "Instructions for updating:\n",
            "To construct input pipelines, use the `tf.data` module.\n",
            "INFO:tensorflow:Saving checkpoints for 0 into /tmp/tmpvm16sdmt/model.ckpt.\n",
            "INFO:tensorflow:loss = 2.3069675, step = 1\n",
            "INFO:tensorflow:global_step/sec: 41.3616\n",
            "INFO:tensorflow:loss = 0.42275012, step = 101 (2.419 sec)\n",
            "INFO:tensorflow:global_step/sec: 61.1275\n",
            "INFO:tensorflow:loss = 0.14298996, step = 201 (1.636 sec)\n",
            "INFO:tensorflow:global_step/sec: 60.2822\n",
            "INFO:tensorflow:loss = 0.18799856, step = 301 (1.659 sec)\n",
            "INFO:tensorflow:global_step/sec: 60.6816\n",
            "INFO:tensorflow:loss = 0.16759022, step = 401 (1.648 sec)\n",
            "INFO:tensorflow:global_step/sec: 61.2571\n",
            "INFO:tensorflow:loss = 0.11159093, step = 501 (1.633 sec)\n",
            "INFO:tensorflow:global_step/sec: 60.8097\n",
            "INFO:tensorflow:loss = 0.026010357, step = 601 (1.645 sec)\n",
            "INFO:tensorflow:global_step/sec: 61.1389\n",
            "INFO:tensorflow:loss = 0.143006, step = 701 (1.636 sec)\n",
            "INFO:tensorflow:global_step/sec: 61.62\n",
            "INFO:tensorflow:loss = 0.03398956, step = 801 (1.623 sec)\n",
            "INFO:tensorflow:global_step/sec: 60.139\n",
            "INFO:tensorflow:loss = 0.079669915, step = 901 (1.663 sec)\n",
            "INFO:tensorflow:global_step/sec: 60.8318\n",
            "INFO:tensorflow:loss = 0.14387737, step = 1001 (1.644 sec)\n",
            "INFO:tensorflow:global_step/sec: 59.9545\n",
            "INFO:tensorflow:loss = 0.074940614, step = 1101 (1.668 sec)\n",
            "INFO:tensorflow:global_step/sec: 60.407\n",
            "INFO:tensorflow:loss = 0.015042413, step = 1201 (1.656 sec)\n",
            "INFO:tensorflow:global_step/sec: 60.2213\n",
            "INFO:tensorflow:loss = 0.013532678, step = 1301 (1.660 sec)\n",
            "INFO:tensorflow:global_step/sec: 61.3769\n",
            "INFO:tensorflow:loss = 0.016656443, step = 1401 (1.629 sec)\n",
            "INFO:tensorflow:global_step/sec: 59.8841\n",
            "INFO:tensorflow:loss = 0.052695103, step = 1501 (1.670 sec)\n",
            "INFO:tensorflow:global_step/sec: 60.6526\n",
            "INFO:tensorflow:loss = 0.093848564, step = 1601 (1.649 sec)\n",
            "INFO:tensorflow:global_step/sec: 61.439\n",
            "INFO:tensorflow:loss = 0.064317, step = 1701 (1.628 sec)\n",
            "INFO:tensorflow:global_step/sec: 61.1307\n",
            "INFO:tensorflow:loss = 0.01605175, step = 1801 (1.636 sec)\n",
            "INFO:tensorflow:global_step/sec: 60.7543\n",
            "INFO:tensorflow:loss = 0.023375906, step = 1901 (1.646 sec)\n",
            "INFO:tensorflow:Saving checkpoints for 2000 into /tmp/tmpvm16sdmt/model.ckpt.\n",
            "INFO:tensorflow:Loss for final step: 0.022812044.\n"
          ],
          "name": "stdout"
        },
        {
          "output_type": "execute_result",
          "data": {
            "text/plain": [
              "<tensorflow_estimator.python.estimator.estimator.Estimator at 0x7f8535a41630>"
            ]
          },
          "metadata": {
            "tags": []
          },
          "execution_count": 44
        }
      ]
    },
    {
      "metadata": {
        "id": "xsisnQwPceNw",
        "colab_type": "text"
      },
      "cell_type": "markdown",
      "source": [
        "## Evaluate (trained) model"
      ]
    },
    {
      "metadata": {
        "id": "ERF0C04obFwy",
        "colab_type": "code",
        "outputId": "a0e0c380-c1a5-49c5-d09f-e28f8d79d813",
        "colab": {
          "base_uri": "https://localhost:8080/",
          "height": 349
        }
      },
      "cell_type": "code",
      "source": [
        "eval_input_fn = tf.estimator.inputs.numpy_input_fn(\n",
        "    x={'x_input': eval_data},\n",
        "    y=eval_labels,\n",
        "    num_epochs=1,\n",
        "    shuffle=False)\n",
        "\n",
        "eval_results = est_cnn_0.evaluate(input_fn=eval_input_fn)\n",
        "print(eval_results)\n"
      ],
      "execution_count": 0,
      "outputs": [
        {
          "output_type": "stream",
          "text": [
            "INFO:tensorflow:Calling model_fn.\n",
            "INFO:tensorflow:Done calling model_fn.\n",
            "WARNING:tensorflow:From /usr/local/lib/python3.6/dist-packages/tensorflow/python/ops/metrics_impl.py:363: to_float (from tensorflow.python.ops.math_ops) is deprecated and will be removed in a future version.\n",
            "Instructions for updating:\n",
            "Use tf.cast instead.\n",
            "INFO:tensorflow:Starting evaluation at 2019-03-27T23:13:38Z\n",
            "INFO:tensorflow:Graph was finalized.\n",
            "WARNING:tensorflow:From /usr/local/lib/python3.6/dist-packages/tensorflow/python/training/saver.py:1266: checkpoint_exists (from tensorflow.python.training.checkpoint_management) is deprecated and will be removed in a future version.\n",
            "Instructions for updating:\n",
            "Use standard file APIs to check for files with this prefix.\n",
            "INFO:tensorflow:Restoring parameters from /tmp/tmpvm16sdmt/model.ckpt-2000\n",
            "INFO:tensorflow:Running local_init_op.\n",
            "INFO:tensorflow:Done running local_init_op.\n",
            "INFO:tensorflow:Finished evaluation at 2019-03-27-23:13:39\n",
            "INFO:tensorflow:Saving dict for global step 2000: categorical_accuracy = 0.9878, global_step = 2000, loss = 0.03232793\n",
            "INFO:tensorflow:Saving 'checkpoint_path' summary for global step 2000: /tmp/tmpvm16sdmt/model.ckpt-2000\n",
            "{'categorical_accuracy': 0.9878, 'loss': 0.03232793, 'global_step': 2000}\n"
          ],
          "name": "stdout"
        }
      ]
    },
    {
      "metadata": {
        "id": "6ARSjYqSXp3v",
        "colab_type": "text"
      },
      "cell_type": "markdown",
      "source": [
        "# Create an `Estimator` from a pre-trained Keras model"
      ]
    },
    {
      "metadata": {
        "id": "Ez1YFVpachdU",
        "colab_type": "text"
      },
      "cell_type": "markdown",
      "source": [
        "## Step 1: Build, train and persist trained model"
      ]
    },
    {
      "metadata": {
        "id": "LGp9580vXzqZ",
        "colab_type": "code",
        "outputId": "29436437-e603-41e4-9998-5a45785a1087",
        "colab": {
          "base_uri": "https://localhost:8080/",
          "height": 110
        }
      },
      "cell_type": "code",
      "source": [
        "# 1.1: Define the model\n",
        "model_cnn_0 = tf.keras.models.Sequential()\n",
        "model_cnn_0.add(tf.keras.layers.Conv2D(32, kernel_size=(3, 3),\n",
        "                 activation='relu',\n",
        "                 input_shape=input_shape,\n",
        "                 name='x'\n",
        "                ))\n",
        "model_cnn_0.add(tf.keras.layers.Conv2D(64, (3, 3), activation='relu'))\n",
        "model_cnn_0.add(tf.keras.layers.MaxPooling2D(pool_size=(2, 2)))\n",
        "model_cnn_0.add(tf.keras.layers.Dropout(0.25))\n",
        "model_cnn_0.add(tf.keras.layers.Flatten())\n",
        "model_cnn_0.add(tf.keras.layers.Dense(128, activation='relu'))\n",
        "model_cnn_0.add(tf.keras.layers.Dropout(0.5))\n",
        "model_cnn_0.add(tf.keras.layers.Dense(num_classes, activation='softmax'))\n",
        "\n",
        "\n",
        "\n",
        "# 1.2: Compile model\n",
        "model_cnn_0.compile(loss=tf.keras.losses.categorical_crossentropy,\n",
        "                    optimizer=tf.keras.optimizers.Adadelta(),\n",
        "                    metrics=['accuracy']\n",
        "                   )\n",
        "\n",
        "# 1.3: Create callbacks\n",
        "# Checkpoint that will stop the training after 3 epochs without improvement of the accuracy on the validation data\n",
        "early_stopping_callback = tf.keras.callbacks.EarlyStopping(monitor='val_acc', patience=3)\n",
        "# Checkpoint that will persist the best model according to the accuracy on the validation data\n",
        "model_checkpoint_callback = tf.keras.callbacks.ModelCheckpoint('best_model.h5', monitor='val_acc')\n",
        "callbacks=[early_stopping_callback, model_checkpoint_callback]\n",
        "\n",
        "# 1.4: Train the model\n",
        "model_cnn_0.fit(train_data, train_labels, validation_data=(eval_data, eval_labels), \n",
        "          epochs=2000, \n",
        "          verbose=0, \n",
        "          callbacks=callbacks)"
      ],
      "execution_count": 0,
      "outputs": [
        {
          "output_type": "stream",
          "text": [
            "WARNING:tensorflow:From /usr/local/lib/python3.6/dist-packages/tensorflow/python/ops/math_ops.py:3066: to_int32 (from tensorflow.python.ops.math_ops) is deprecated and will be removed in a future version.\n",
            "Instructions for updating:\n",
            "Use tf.cast instead.\n"
          ],
          "name": "stdout"
        },
        {
          "output_type": "execute_result",
          "data": {
            "text/plain": [
              "<tensorflow.python.keras.callbacks.History at 0x7fa94021bf28>"
            ]
          },
          "metadata": {
            "tags": []
          },
          "execution_count": 4
        }
      ]
    },
    {
      "metadata": {
        "id": "EjBmGA7HdR64",
        "colab_type": "text"
      },
      "cell_type": "markdown",
      "source": [
        "## Step 2: transform the persisted trained model into an `Estimator`"
      ]
    },
    {
      "metadata": {
        "id": "9NdyWEoUcDnf",
        "colab_type": "code",
        "outputId": "6360010c-a4e6-4a1b-84c4-7c1dec0d5145",
        "colab": {
          "base_uri": "https://localhost:8080/",
          "height": 221
        }
      },
      "cell_type": "code",
      "source": [
        "est_cnn_0_trained = tf.keras.estimator.model_to_estimator(keras_model_path='best_model.h5')"
      ],
      "execution_count": 9,
      "outputs": [
        {
          "output_type": "stream",
          "text": [
            "INFO:tensorflow:Using default config.\n",
            "WARNING:tensorflow:Using temporary folder as model directory: /tmp/tmpms1onum3\n",
            "INFO:tensorflow:Loading models from best_model.h5\n",
            "INFO:tensorflow:Using config: {'_model_dir': '/tmp/tmpms1onum3', '_tf_random_seed': None, '_save_summary_steps': 100, '_save_checkpoints_steps': None, '_save_checkpoints_secs': 600, '_session_config': allow_soft_placement: true\n",
            "graph_options {\n",
            "  rewrite_options {\n",
            "    meta_optimizer_iterations: ONE\n",
            "  }\n",
            "}\n",
            ", '_keep_checkpoint_max': 5, '_keep_checkpoint_every_n_hours': 10000, '_log_step_count_steps': 100, '_train_distribute': None, '_device_fn': None, '_protocol': None, '_eval_distribute': None, '_experimental_distribute': None, '_service': None, '_cluster_spec': <tensorflow.python.training.server_lib.ClusterSpec object at 0x7fa934943550>, '_task_type': 'worker', '_task_id': 0, '_global_id_in_cluster': 0, '_master': '', '_evaluation_master': '', '_is_chief': True, '_num_ps_replicas': 0, '_num_worker_replicas': 1}\n"
          ],
          "name": "stdout"
        }
      ]
    },
    {
      "metadata": {
        "id": "OsyxllfddeSF",
        "colab_type": "text"
      },
      "cell_type": "markdown",
      "source": [
        "## Step 3: Evaluate the resulting `Estimator`"
      ]
    },
    {
      "metadata": {
        "id": "ic-hZp3NcRtp",
        "colab_type": "code",
        "outputId": "fbcf7b2b-2296-4878-bfb2-ec5fa7f391fb",
        "colab": {
          "base_uri": "https://localhost:8080/",
          "height": 459
        }
      },
      "cell_type": "code",
      "source": [
        "eval_input_fn = tf.estimator.inputs.numpy_input_fn(\n",
        "    x={'x_input': eval_data},\n",
        "    y=eval_labels,\n",
        "    num_epochs=1,\n",
        "    shuffle=False)\n",
        "\n",
        "eval_results = est_cnn_0_trained.evaluate(input_fn=eval_input_fn)\n",
        "print(eval_results)"
      ],
      "execution_count": 10,
      "outputs": [
        {
          "output_type": "stream",
          "text": [
            "INFO:tensorflow:Could not find trained model in model_dir: /tmp/tmpms1onum3, running initialization to evaluate.\n",
            "INFO:tensorflow:Calling model_fn.\n",
            "INFO:tensorflow:Done calling model_fn.\n",
            "INFO:tensorflow:Warm-starting with WarmStartSettings: WarmStartSettings(ckpt_to_initialize_from='/tmp/tmpms1onum3/keras/keras_model.ckpt', vars_to_warm_start='.*', var_name_to_vocab_info={}, var_name_to_prev_var_name={})\n",
            "INFO:tensorflow:Warm-starting from: ('/tmp/tmpms1onum3/keras/keras_model.ckpt',)\n",
            "INFO:tensorflow:Warm-starting variable: x/kernel; prev_var_name: Unchanged\n",
            "INFO:tensorflow:Warm-starting variable: x/bias; prev_var_name: Unchanged\n",
            "INFO:tensorflow:Warm-starting variable: conv2d_1/kernel; prev_var_name: Unchanged\n",
            "INFO:tensorflow:Warm-starting variable: conv2d_1/bias; prev_var_name: Unchanged\n",
            "INFO:tensorflow:Warm-starting variable: dense_2/kernel; prev_var_name: Unchanged\n",
            "INFO:tensorflow:Warm-starting variable: dense_2/bias; prev_var_name: Unchanged\n",
            "INFO:tensorflow:Warm-starting variable: dense_3/kernel; prev_var_name: Unchanged\n",
            "INFO:tensorflow:Warm-starting variable: dense_3/bias; prev_var_name: Unchanged\n",
            "INFO:tensorflow:Warm-starting variable: Adadelta/lr; prev_var_name: Unchanged\n",
            "INFO:tensorflow:Warm-starting variable: Adadelta/decay; prev_var_name: Unchanged\n",
            "INFO:tensorflow:Warm-starting variable: Adadelta/iterations; prev_var_name: Unchanged\n",
            "INFO:tensorflow:Starting evaluation at 2019-04-01T06:45:51Z\n",
            "INFO:tensorflow:Graph was finalized.\n",
            "INFO:tensorflow:Running local_init_op.\n",
            "INFO:tensorflow:Done running local_init_op.\n",
            "INFO:tensorflow:Finished evaluation at 2019-04-01-06:45:52\n",
            "INFO:tensorflow:Saving dict for global step 0: categorical_accuracy = 0.9897, global_step = 0, loss = 0.032523274\n",
            "{'categorical_accuracy': 0.9897, 'loss': 0.032523274, 'global_step': 0}\n"
          ],
          "name": "stdout"
        }
      ]
    }
  ]
}