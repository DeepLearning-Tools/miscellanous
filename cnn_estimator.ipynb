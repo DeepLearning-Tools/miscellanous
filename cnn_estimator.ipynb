{
  "nbformat": 4,
  "nbformat_minor": 0,
  "metadata": {
    "colab": {
      "name": "cnn_estimator.ipynb",
      "version": "0.3.2",
      "provenance": [],
      "collapsed_sections": [],
      "toc_visible": true,
      "include_colab_link": true
    },
    "kernelspec": {
      "name": "python3",
      "display_name": "Python 3"
    },
    "accelerator": "GPU"
  },
  "cells": [
    {
      "cell_type": "markdown",
      "metadata": {
        "id": "view-in-github",
        "colab_type": "text"
      },
      "source": [
        "<a href=\"https://colab.research.google.com/github/mancap314/miscellanous/blob/master/cnn_estimator.ipynb\" target=\"_parent\"><img src=\"https://colab.research.google.com/assets/colab-badge.svg\" alt=\"Open In Colab\"/></a>"
      ]
    },
    {
      "metadata": {
        "id": "ykcBNG5OnnBI",
        "colab_type": "text"
      },
      "cell_type": "markdown",
      "source": [
        "This is the companion notebook to this [blog article](https://macap314.github.io/transforming-keras-model-into-tensorflow-estimator.html), explaining how to transform a Keras model into a Tensorflow `Estimator`"
      ]
    },
    {
      "metadata": {
        "id": "j8zsLdH2dQOK",
        "colab_type": "text"
      },
      "cell_type": "markdown",
      "source": [
        "# Creating a tf `Estimator` from a Keras model"
      ]
    },
    {
      "metadata": {
        "id": "vewF-uytAmup",
        "colab_type": "code",
        "colab": {}
      },
      "cell_type": "code",
      "source": [
        "from __future__ import absolute_import, division, print_function\n",
        "\n",
        "import tensorflow as tf\n",
        "import numpy as np\n",
        "\n"
      ],
      "execution_count": 0,
      "outputs": []
    },
    {
      "metadata": {
        "id": "og8Zx7Kf3quZ",
        "colab_type": "text"
      },
      "cell_type": "markdown",
      "source": [
        "## Step 1: Importing data"
      ]
    },
    {
      "metadata": {
        "id": "W13nvmj4CBnx",
        "colab_type": "code",
        "outputId": "e4e499d0-0e04-4249-edf9-f05eb225640c",
        "colab": {
          "base_uri": "https://localhost:8080/",
          "height": 54
        }
      },
      "cell_type": "code",
      "source": [
        "# 1.0: Define some constants first\n",
        "img_rows, img_cols = 28, 28\n",
        "input_shape = (img_rows, img_cols, 1)\n",
        "num_classes = 10\n",
        "\n",
        "# 1.1: Import data\n",
        "((train_data, train_labels), (eval_data, eval_labels)) = tf.keras.datasets.mnist.load_data()\n",
        "\n",
        "# 1.2: Format data\n",
        "# convert class vectors to binary class matrices\n",
        "train_labels = tf.keras.utils.to_categorical(train_labels, num_classes)\n",
        "eval_labels = tf.keras.utils.to_categorical(eval_labels, num_classes)\n",
        "\n",
        "train_data = train_data / np.float32(255.0)\n",
        "eval_data = eval_data /np.float32(255.0)\n",
        "\n",
        "train_data = train_data.reshape(train_data.shape[0], img_rows, img_cols, 1)\n",
        "eval_data = eval_data.reshape(eval_data.shape[0], img_rows, img_cols, 1)\n"
      ],
      "execution_count": 2,
      "outputs": [
        {
          "output_type": "stream",
          "text": [
            "Downloading data from https://storage.googleapis.com/tensorflow/tf-keras-datasets/mnist.npz\n",
            "11493376/11490434 [==============================] - 0s 0us/step\n"
          ],
          "name": "stdout"
        }
      ]
    },
    {
      "metadata": {
        "id": "N9_o8E2x-C98",
        "colab_type": "text"
      },
      "cell_type": "markdown",
      "source": [
        "##  Step 2: Build model"
      ]
    },
    {
      "metadata": {
        "id": "7WSZYemzYqwN",
        "colab_type": "code",
        "outputId": "1bf60145-217f-40ec-83cd-586474a54d30",
        "colab": {
          "base_uri": "https://localhost:8080/",
          "height": 808
        }
      },
      "cell_type": "code",
      "source": [
        "# 2.1: Define model\n",
        "model_cnn_0 = tf.keras.models.Sequential()\n",
        "model_cnn_0.add(tf.keras.layers.Conv2D(32, kernel_size=(3, 3),\n",
        "                 activation='relu',\n",
        "                 input_shape=input_shape,\n",
        "                 name='x'\n",
        "                ))\n",
        "model_cnn_0.add(tf.keras.layers.Conv2D(64, (3, 3), activation='relu'))\n",
        "model_cnn_0.add(tf.keras.layers.MaxPooling2D(pool_size=(2, 2)))\n",
        "model_cnn_0.add(tf.keras.layers.Dropout(0.25))\n",
        "model_cnn_0.add(tf.keras.layers.Flatten())\n",
        "model_cnn_0.add(tf.keras.layers.Dense(128, activation='relu'))\n",
        "model_cnn_0.add(tf.keras.layers.Dropout(0.5))\n",
        "model_cnn_0.add(tf.keras.layers.Dense(num_classes, activation='softmax'))\n",
        "\n",
        "model_cnn_0.summary()\n",
        "\n",
        "# 2.2: Compile model\n",
        "model_cnn_0.compile(loss=tf.keras.losses.categorical_crossentropy,\n",
        "                    optimizer=tf.keras.optimizers.Adadelta(),\n",
        "                    metrics=['accuracy'])\n",
        "\n",
        "\n",
        "# 2.3: Transform the keras `model` into a tf `Estimator`\n",
        "est_cnn_0 = tf.keras.estimator.model_to_estimator(keras_model=model_cnn_0)\n",
        "\n"
      ],
      "execution_count": 3,
      "outputs": [
        {
          "output_type": "stream",
          "text": [
            "WARNING:tensorflow:From /usr/local/lib/python3.6/dist-packages/tensorflow/python/ops/resource_variable_ops.py:435: colocate_with (from tensorflow.python.framework.ops) is deprecated and will be removed in a future version.\n",
            "Instructions for updating:\n",
            "Colocations handled automatically by placer.\n",
            "WARNING:tensorflow:From /usr/local/lib/python3.6/dist-packages/tensorflow/python/keras/layers/core.py:143: calling dropout (from tensorflow.python.ops.nn_ops) with keep_prob is deprecated and will be removed in a future version.\n",
            "Instructions for updating:\n",
            "Please use `rate` instead of `keep_prob`. Rate should be set to `rate = 1 - keep_prob`.\n",
            "_________________________________________________________________\n",
            "Layer (type)                 Output Shape              Param #   \n",
            "=================================================================\n",
            "x (Conv2D)                   (None, 26, 26, 32)        320       \n",
            "_________________________________________________________________\n",
            "conv2d (Conv2D)              (None, 24, 24, 64)        18496     \n",
            "_________________________________________________________________\n",
            "max_pooling2d (MaxPooling2D) (None, 12, 12, 64)        0         \n",
            "_________________________________________________________________\n",
            "dropout (Dropout)            (None, 12, 12, 64)        0         \n",
            "_________________________________________________________________\n",
            "flatten (Flatten)            (None, 9216)              0         \n",
            "_________________________________________________________________\n",
            "dense (Dense)                (None, 128)               1179776   \n",
            "_________________________________________________________________\n",
            "dropout_1 (Dropout)          (None, 128)               0         \n",
            "_________________________________________________________________\n",
            "dense_1 (Dense)              (None, 10)                1290      \n",
            "=================================================================\n",
            "Total params: 1,199,882\n",
            "Trainable params: 1,199,882\n",
            "Non-trainable params: 0\n",
            "_________________________________________________________________\n",
            "INFO:tensorflow:Using default config.\n",
            "WARNING:tensorflow:Using temporary folder as model directory: /tmp/tmpavjc6s9d\n",
            "INFO:tensorflow:Using the Keras model provided.\n",
            "WARNING:tensorflow:From /usr/local/lib/python3.6/dist-packages/tensorflow/python/ops/math_ops.py:3066: to_int32 (from tensorflow.python.ops.math_ops) is deprecated and will be removed in a future version.\n",
            "Instructions for updating:\n",
            "Use tf.cast instead.\n",
            "INFO:tensorflow:Using config: {'_model_dir': '/tmp/tmpavjc6s9d', '_tf_random_seed': None, '_save_summary_steps': 100, '_save_checkpoints_steps': None, '_save_checkpoints_secs': 600, '_session_config': allow_soft_placement: true\n",
            "graph_options {\n",
            "  rewrite_options {\n",
            "    meta_optimizer_iterations: ONE\n",
            "  }\n",
            "}\n",
            ", '_keep_checkpoint_max': 5, '_keep_checkpoint_every_n_hours': 10000, '_log_step_count_steps': 100, '_train_distribute': None, '_device_fn': None, '_protocol': None, '_eval_distribute': None, '_experimental_distribute': None, '_service': None, '_cluster_spec': <tensorflow.python.training.server_lib.ClusterSpec object at 0x7fd6b5433160>, '_task_type': 'worker', '_task_id': 0, '_global_id_in_cluster': 0, '_master': '', '_evaluation_master': '', '_is_chief': True, '_num_ps_replicas': 0, '_num_worker_replicas': 1}\n"
          ],
          "name": "stdout"
        }
      ]
    },
    {
      "metadata": {
        "id": "MMOrm4pJXkn2",
        "colab_type": "text"
      },
      "cell_type": "markdown",
      "source": [
        ""
      ]
    },
    {
      "metadata": {
        "id": "4WPq82PAFcPN",
        "colab_type": "text"
      },
      "cell_type": "markdown",
      "source": [
        "## Step 3: Train Model"
      ]
    },
    {
      "metadata": {
        "id": "1eeOTnC-hdro",
        "colab_type": "code",
        "outputId": "717a747b-cfd8-4968-aabc-afe946f65642",
        "colab": {
          "base_uri": "https://localhost:8080/",
          "height": 1635
        }
      },
      "cell_type": "code",
      "source": [
        "# 3.1: Define training input function\n",
        "train_input_fn = tf.estimator.inputs.numpy_input_fn(\n",
        "    x={'x_input': train_data},  # 'x_input' because name of 1st layer is 'x', `model_cnn_0.input_names`\n",
        "    y=train_labels,\n",
        "    batch_size=100,\n",
        "    num_epochs=None,\n",
        "    shuffle=True)\n",
        "\n",
        "# 3.2 Train estimator\n",
        "est_cnn_0.train(input_fn=train_input_fn, steps=2000)\n"
      ],
      "execution_count": 4,
      "outputs": [
        {
          "output_type": "stream",
          "text": [
            "WARNING:tensorflow:From /usr/local/lib/python3.6/dist-packages/tensorflow_estimator/python/estimator/inputs/queues/feeding_queue_runner.py:62: QueueRunner.__init__ (from tensorflow.python.training.queue_runner_impl) is deprecated and will be removed in a future version.\n",
            "Instructions for updating:\n",
            "To construct input pipelines, use the `tf.data` module.\n",
            "WARNING:tensorflow:From /usr/local/lib/python3.6/dist-packages/tensorflow_estimator/python/estimator/inputs/queues/feeding_functions.py:500: add_queue_runner (from tensorflow.python.training.queue_runner_impl) is deprecated and will be removed in a future version.\n",
            "Instructions for updating:\n",
            "To construct input pipelines, use the `tf.data` module.\n",
            "INFO:tensorflow:Calling model_fn.\n",
            "INFO:tensorflow:Done calling model_fn.\n",
            "INFO:tensorflow:Warm-starting with WarmStartSettings: WarmStartSettings(ckpt_to_initialize_from='/tmp/tmpavjc6s9d/keras/keras_model.ckpt', vars_to_warm_start='.*', var_name_to_vocab_info={}, var_name_to_prev_var_name={})\n",
            "INFO:tensorflow:Warm-starting from: ('/tmp/tmpavjc6s9d/keras/keras_model.ckpt',)\n",
            "INFO:tensorflow:Warm-starting variable: x/kernel; prev_var_name: Unchanged\n",
            "INFO:tensorflow:Warm-starting variable: x/bias; prev_var_name: Unchanged\n",
            "INFO:tensorflow:Warm-starting variable: conv2d/kernel; prev_var_name: Unchanged\n",
            "INFO:tensorflow:Warm-starting variable: conv2d/bias; prev_var_name: Unchanged\n",
            "INFO:tensorflow:Warm-starting variable: dense/kernel; prev_var_name: Unchanged\n",
            "INFO:tensorflow:Warm-starting variable: dense/bias; prev_var_name: Unchanged\n",
            "INFO:tensorflow:Warm-starting variable: dense_1/kernel; prev_var_name: Unchanged\n",
            "INFO:tensorflow:Warm-starting variable: dense_1/bias; prev_var_name: Unchanged\n",
            "INFO:tensorflow:Warm-starting variable: Adadelta/lr; prev_var_name: Unchanged\n",
            "INFO:tensorflow:Warm-starting variable: Adadelta/decay; prev_var_name: Unchanged\n",
            "INFO:tensorflow:Warm-starting variable: Adadelta/iterations; prev_var_name: Unchanged\n",
            "INFO:tensorflow:Warm-starting variable: training/Adadelta/Variable; prev_var_name: Unchanged\n",
            "INFO:tensorflow:Warm-starting variable: training/Adadelta/Variable_1; prev_var_name: Unchanged\n",
            "INFO:tensorflow:Warm-starting variable: training/Adadelta/Variable_2; prev_var_name: Unchanged\n",
            "INFO:tensorflow:Warm-starting variable: training/Adadelta/Variable_3; prev_var_name: Unchanged\n",
            "INFO:tensorflow:Warm-starting variable: training/Adadelta/Variable_4; prev_var_name: Unchanged\n",
            "INFO:tensorflow:Warm-starting variable: training/Adadelta/Variable_5; prev_var_name: Unchanged\n",
            "INFO:tensorflow:Warm-starting variable: training/Adadelta/Variable_6; prev_var_name: Unchanged\n",
            "INFO:tensorflow:Warm-starting variable: training/Adadelta/Variable_7; prev_var_name: Unchanged\n",
            "INFO:tensorflow:Warm-starting variable: training/Adadelta/Variable_8; prev_var_name: Unchanged\n",
            "INFO:tensorflow:Warm-starting variable: training/Adadelta/Variable_9; prev_var_name: Unchanged\n",
            "INFO:tensorflow:Warm-starting variable: training/Adadelta/Variable_10; prev_var_name: Unchanged\n",
            "INFO:tensorflow:Warm-starting variable: training/Adadelta/Variable_11; prev_var_name: Unchanged\n",
            "INFO:tensorflow:Warm-starting variable: training/Adadelta/Variable_12; prev_var_name: Unchanged\n",
            "INFO:tensorflow:Warm-starting variable: training/Adadelta/Variable_13; prev_var_name: Unchanged\n",
            "INFO:tensorflow:Warm-starting variable: training/Adadelta/Variable_14; prev_var_name: Unchanged\n",
            "INFO:tensorflow:Warm-starting variable: training/Adadelta/Variable_15; prev_var_name: Unchanged\n",
            "INFO:tensorflow:Create CheckpointSaverHook.\n",
            "INFO:tensorflow:Graph was finalized.\n",
            "INFO:tensorflow:Running local_init_op.\n",
            "INFO:tensorflow:Done running local_init_op.\n",
            "WARNING:tensorflow:From /usr/local/lib/python3.6/dist-packages/tensorflow/python/training/monitored_session.py:809: start_queue_runners (from tensorflow.python.training.queue_runner_impl) is deprecated and will be removed in a future version.\n",
            "Instructions for updating:\n",
            "To construct input pipelines, use the `tf.data` module.\n",
            "INFO:tensorflow:Saving checkpoints for 0 into /tmp/tmpavjc6s9d/model.ckpt.\n",
            "INFO:tensorflow:loss = 2.3011134, step = 1\n",
            "INFO:tensorflow:global_step/sec: 51.9406\n",
            "INFO:tensorflow:loss = 0.1523061, step = 101 (1.926 sec)\n",
            "INFO:tensorflow:global_step/sec: 68.7653\n",
            "INFO:tensorflow:loss = 0.16300474, step = 201 (1.454 sec)\n",
            "INFO:tensorflow:global_step/sec: 68.3241\n",
            "INFO:tensorflow:loss = 0.16503811, step = 301 (1.464 sec)\n",
            "INFO:tensorflow:global_step/sec: 68.3043\n",
            "INFO:tensorflow:loss = 0.14334002, step = 401 (1.464 sec)\n",
            "INFO:tensorflow:global_step/sec: 68.0667\n",
            "INFO:tensorflow:loss = 0.088658325, step = 501 (1.469 sec)\n",
            "INFO:tensorflow:global_step/sec: 68.2452\n",
            "INFO:tensorflow:loss = 0.26859728, step = 601 (1.465 sec)\n",
            "INFO:tensorflow:global_step/sec: 68.0414\n",
            "INFO:tensorflow:loss = 0.085110925, step = 701 (1.470 sec)\n",
            "INFO:tensorflow:global_step/sec: 68.3065\n",
            "INFO:tensorflow:loss = 0.118337415, step = 801 (1.464 sec)\n",
            "INFO:tensorflow:global_step/sec: 67.7432\n",
            "INFO:tensorflow:loss = 0.10961389, step = 901 (1.476 sec)\n",
            "INFO:tensorflow:global_step/sec: 68.5645\n",
            "INFO:tensorflow:loss = 0.07476067, step = 1001 (1.459 sec)\n",
            "INFO:tensorflow:global_step/sec: 67.7927\n",
            "INFO:tensorflow:loss = 0.05046851, step = 1101 (1.475 sec)\n",
            "INFO:tensorflow:global_step/sec: 68.0282\n",
            "INFO:tensorflow:loss = 0.026424184, step = 1201 (1.470 sec)\n",
            "INFO:tensorflow:global_step/sec: 68.1717\n",
            "INFO:tensorflow:loss = 0.02473201, step = 1301 (1.467 sec)\n",
            "INFO:tensorflow:global_step/sec: 68.3132\n",
            "INFO:tensorflow:loss = 0.06679859, step = 1401 (1.464 sec)\n",
            "INFO:tensorflow:global_step/sec: 67.4313\n",
            "INFO:tensorflow:loss = 0.028542493, step = 1501 (1.483 sec)\n",
            "INFO:tensorflow:global_step/sec: 67.8947\n",
            "INFO:tensorflow:loss = 0.023408262, step = 1601 (1.473 sec)\n",
            "INFO:tensorflow:global_step/sec: 68.1404\n",
            "INFO:tensorflow:loss = 0.014374256, step = 1701 (1.468 sec)\n",
            "INFO:tensorflow:global_step/sec: 68.1806\n",
            "INFO:tensorflow:loss = 0.096103944, step = 1801 (1.467 sec)\n",
            "INFO:tensorflow:global_step/sec: 67.529\n",
            "INFO:tensorflow:loss = 0.038015027, step = 1901 (1.481 sec)\n",
            "INFO:tensorflow:Saving checkpoints for 2000 into /tmp/tmpavjc6s9d/model.ckpt.\n",
            "INFO:tensorflow:Loss for final step: 0.039346427.\n"
          ],
          "name": "stdout"
        },
        {
          "output_type": "execute_result",
          "data": {
            "text/plain": [
              "<tensorflow_estimator.python.estimator.estimator.Estimator at 0x7fd69a4a74a8>"
            ]
          },
          "metadata": {
            "tags": []
          },
          "execution_count": 4
        }
      ]
    },
    {
      "metadata": {
        "id": "xsisnQwPceNw",
        "colab_type": "text"
      },
      "cell_type": "markdown",
      "source": [
        "## Evaluate (trained) model"
      ]
    },
    {
      "metadata": {
        "id": "ERF0C04obFwy",
        "colab_type": "code",
        "outputId": "c466d62f-e18b-4b21-9da3-db2eb03b139a",
        "colab": {
          "base_uri": "https://localhost:8080/",
          "height": 349
        }
      },
      "cell_type": "code",
      "source": [
        "eval_input_fn = tf.estimator.inputs.numpy_input_fn(\n",
        "    x={'x_input': eval_data},\n",
        "    y=eval_labels,\n",
        "    num_epochs=1,\n",
        "    shuffle=False)\n",
        "\n",
        "eval_results = est_cnn_0.evaluate(input_fn=eval_input_fn)\n",
        "print(eval_results)\n"
      ],
      "execution_count": 5,
      "outputs": [
        {
          "output_type": "stream",
          "text": [
            "INFO:tensorflow:Calling model_fn.\n",
            "INFO:tensorflow:Done calling model_fn.\n",
            "WARNING:tensorflow:From /usr/local/lib/python3.6/dist-packages/tensorflow/python/ops/metrics_impl.py:363: to_float (from tensorflow.python.ops.math_ops) is deprecated and will be removed in a future version.\n",
            "Instructions for updating:\n",
            "Use tf.cast instead.\n",
            "INFO:tensorflow:Starting evaluation at 2019-04-09T09:57:40Z\n",
            "INFO:tensorflow:Graph was finalized.\n",
            "WARNING:tensorflow:From /usr/local/lib/python3.6/dist-packages/tensorflow/python/training/saver.py:1266: checkpoint_exists (from tensorflow.python.training.checkpoint_management) is deprecated and will be removed in a future version.\n",
            "Instructions for updating:\n",
            "Use standard file APIs to check for files with this prefix.\n",
            "INFO:tensorflow:Restoring parameters from /tmp/tmpavjc6s9d/model.ckpt-2000\n",
            "INFO:tensorflow:Running local_init_op.\n",
            "INFO:tensorflow:Done running local_init_op.\n",
            "INFO:tensorflow:Finished evaluation at 2019-04-09-09:57:41\n",
            "INFO:tensorflow:Saving dict for global step 2000: categorical_accuracy = 0.9884, global_step = 2000, loss = 0.034530666\n",
            "INFO:tensorflow:Saving 'checkpoint_path' summary for global step 2000: /tmp/tmpavjc6s9d/model.ckpt-2000\n",
            "{'categorical_accuracy': 0.9884, 'loss': 0.034530666, 'global_step': 2000}\n"
          ],
          "name": "stdout"
        }
      ]
    },
    {
      "metadata": {
        "id": "6ARSjYqSXp3v",
        "colab_type": "text"
      },
      "cell_type": "markdown",
      "source": [
        "# Create an `Estimator` from a pre-trained Keras model"
      ]
    },
    {
      "metadata": {
        "id": "Ez1YFVpachdU",
        "colab_type": "text"
      },
      "cell_type": "markdown",
      "source": [
        "## Step 1: Build, train and persist trained model"
      ]
    },
    {
      "metadata": {
        "id": "LGp9580vXzqZ",
        "colab_type": "code",
        "outputId": "e8ac1683-51de-41c3-ce43-7544a210c0d8",
        "colab": {
          "base_uri": "https://localhost:8080/",
          "height": 35
        }
      },
      "cell_type": "code",
      "source": [
        "# 1.1: Define the model\n",
        "model_cnn_0 = tf.keras.models.Sequential()\n",
        "model_cnn_0.add(tf.keras.layers.Conv2D(32, kernel_size=(3, 3),\n",
        "                 activation='relu',\n",
        "                 input_shape=input_shape,\n",
        "                 name='x'\n",
        "                ))\n",
        "model_cnn_0.add(tf.keras.layers.Conv2D(64, (3, 3), activation='relu'))\n",
        "model_cnn_0.add(tf.keras.layers.MaxPooling2D(pool_size=(2, 2)))\n",
        "model_cnn_0.add(tf.keras.layers.Dropout(0.25))\n",
        "model_cnn_0.add(tf.keras.layers.Flatten())\n",
        "model_cnn_0.add(tf.keras.layers.Dense(128, activation='relu'))\n",
        "model_cnn_0.add(tf.keras.layers.Dropout(0.5))\n",
        "model_cnn_0.add(tf.keras.layers.Dense(num_classes, activation='softmax'))\n",
        "\n",
        "\n",
        "\n",
        "# 1.2: Compile model\n",
        "model_cnn_0.compile(loss=tf.keras.losses.categorical_crossentropy,\n",
        "                    optimizer=tf.keras.optimizers.Adadelta(),\n",
        "                    metrics=['accuracy']\n",
        "                   )\n",
        "\n",
        "# 1.3: Create callbacks\n",
        "# Checkpoint that will stop the training after 3 epochs without improvement of the accuracy on the validation data\n",
        "early_stopping_callback = tf.keras.callbacks.EarlyStopping(monitor='val_acc', patience=3)\n",
        "# Checkpoint that will persist the best model according to the accuracy on the validation data\n",
        "model_checkpoint_callback = tf.keras.callbacks.ModelCheckpoint('best_model.h5', monitor='val_acc')\n",
        "callbacks=[early_stopping_callback, model_checkpoint_callback]\n",
        "\n",
        "# 1.4: Train the model\n",
        "model_cnn_0.fit(train_data, train_labels, validation_data=(eval_data, eval_labels), \n",
        "          epochs=2000, \n",
        "          verbose=0, \n",
        "          callbacks=callbacks)"
      ],
      "execution_count": 6,
      "outputs": [
        {
          "output_type": "execute_result",
          "data": {
            "text/plain": [
              "<tensorflow.python.keras.callbacks.History at 0x7fd69a402128>"
            ]
          },
          "metadata": {
            "tags": []
          },
          "execution_count": 6
        }
      ]
    },
    {
      "metadata": {
        "id": "EjBmGA7HdR64",
        "colab_type": "text"
      },
      "cell_type": "markdown",
      "source": [
        "## Step 2: transform the persisted trained model into an `Estimator`"
      ]
    },
    {
      "metadata": {
        "id": "9NdyWEoUcDnf",
        "colab_type": "code",
        "outputId": "5c31a0e0-457c-4b86-84db-f70cd70b834e",
        "colab": {
          "base_uri": "https://localhost:8080/",
          "height": 221
        }
      },
      "cell_type": "code",
      "source": [
        "est_cnn_0_trained = tf.keras.estimator.model_to_estimator(keras_model_path='best_model.h5')"
      ],
      "execution_count": 7,
      "outputs": [
        {
          "output_type": "stream",
          "text": [
            "INFO:tensorflow:Using default config.\n",
            "WARNING:tensorflow:Using temporary folder as model directory: /tmp/tmpliagcnq_\n",
            "INFO:tensorflow:Loading models from best_model.h5\n",
            "INFO:tensorflow:Using config: {'_model_dir': '/tmp/tmpliagcnq_', '_tf_random_seed': None, '_save_summary_steps': 100, '_save_checkpoints_steps': None, '_save_checkpoints_secs': 600, '_session_config': allow_soft_placement: true\n",
            "graph_options {\n",
            "  rewrite_options {\n",
            "    meta_optimizer_iterations: ONE\n",
            "  }\n",
            "}\n",
            ", '_keep_checkpoint_max': 5, '_keep_checkpoint_every_n_hours': 10000, '_log_step_count_steps': 100, '_train_distribute': None, '_device_fn': None, '_protocol': None, '_eval_distribute': None, '_experimental_distribute': None, '_service': None, '_cluster_spec': <tensorflow.python.training.server_lib.ClusterSpec object at 0x7fd69a63ceb8>, '_task_type': 'worker', '_task_id': 0, '_global_id_in_cluster': 0, '_master': '', '_evaluation_master': '', '_is_chief': True, '_num_ps_replicas': 0, '_num_worker_replicas': 1}\n"
          ],
          "name": "stdout"
        }
      ]
    },
    {
      "metadata": {
        "id": "OsyxllfddeSF",
        "colab_type": "text"
      },
      "cell_type": "markdown",
      "source": [
        "## Step 3: Evaluate the resulting `Estimator`"
      ]
    },
    {
      "metadata": {
        "id": "ic-hZp3NcRtp",
        "colab_type": "code",
        "outputId": "990b324c-b8dd-416c-9a6c-4868817e0d38",
        "colab": {
          "base_uri": "https://localhost:8080/",
          "height": 459
        }
      },
      "cell_type": "code",
      "source": [
        "eval_input_fn = tf.estimator.inputs.numpy_input_fn(\n",
        "    x={'x_input': eval_data},\n",
        "    y=eval_labels,\n",
        "    num_epochs=1,\n",
        "    shuffle=False)\n",
        "\n",
        "eval_results = est_cnn_0_trained.evaluate(input_fn=eval_input_fn)\n",
        "print(eval_results)"
      ],
      "execution_count": 8,
      "outputs": [
        {
          "output_type": "stream",
          "text": [
            "INFO:tensorflow:Could not find trained model in model_dir: /tmp/tmpliagcnq_, running initialization to evaluate.\n",
            "INFO:tensorflow:Calling model_fn.\n",
            "INFO:tensorflow:Done calling model_fn.\n",
            "INFO:tensorflow:Warm-starting with WarmStartSettings: WarmStartSettings(ckpt_to_initialize_from='/tmp/tmpliagcnq_/keras/keras_model.ckpt', vars_to_warm_start='.*', var_name_to_vocab_info={}, var_name_to_prev_var_name={})\n",
            "INFO:tensorflow:Warm-starting from: ('/tmp/tmpliagcnq_/keras/keras_model.ckpt',)\n",
            "INFO:tensorflow:Warm-starting variable: x/kernel; prev_var_name: Unchanged\n",
            "INFO:tensorflow:Warm-starting variable: x/bias; prev_var_name: Unchanged\n",
            "INFO:tensorflow:Warm-starting variable: conv2d_1/kernel; prev_var_name: Unchanged\n",
            "INFO:tensorflow:Warm-starting variable: conv2d_1/bias; prev_var_name: Unchanged\n",
            "INFO:tensorflow:Warm-starting variable: dense_2/kernel; prev_var_name: Unchanged\n",
            "INFO:tensorflow:Warm-starting variable: dense_2/bias; prev_var_name: Unchanged\n",
            "INFO:tensorflow:Warm-starting variable: dense_3/kernel; prev_var_name: Unchanged\n",
            "INFO:tensorflow:Warm-starting variable: dense_3/bias; prev_var_name: Unchanged\n",
            "INFO:tensorflow:Warm-starting variable: Adadelta/lr; prev_var_name: Unchanged\n",
            "INFO:tensorflow:Warm-starting variable: Adadelta/decay; prev_var_name: Unchanged\n",
            "INFO:tensorflow:Warm-starting variable: Adadelta/iterations; prev_var_name: Unchanged\n",
            "INFO:tensorflow:Starting evaluation at 2019-04-09T10:07:17Z\n",
            "INFO:tensorflow:Graph was finalized.\n",
            "INFO:tensorflow:Running local_init_op.\n",
            "INFO:tensorflow:Done running local_init_op.\n",
            "INFO:tensorflow:Finished evaluation at 2019-04-09-10:07:17\n",
            "INFO:tensorflow:Saving dict for global step 0: categorical_accuracy = 0.9918, global_step = 0, loss = 0.026995882\n",
            "{'categorical_accuracy': 0.9918, 'loss': 0.026995882, 'global_step': 0}\n"
          ],
          "name": "stdout"
        }
      ]
    },
    {
      "metadata": {
        "id": "X6C24al_hCUu",
        "colab_type": "text"
      },
      "cell_type": "markdown",
      "source": [
        "## Last step: Using the estimator to make predictions"
      ]
    },
    {
      "metadata": {
        "id": "tQ9bMx7mhMZl",
        "colab_type": "code",
        "colab": {
          "base_uri": "https://localhost:8080/",
          "height": 606
        },
        "outputId": "e0f7a782-297d-44c0-bacb-fd59cfafc62f"
      },
      "cell_type": "code",
      "source": [
        "predict_input_fn = tf.estimator.inputs.numpy_input_fn(\n",
        "    x={'x_input': eval_data},\n",
        "    y=None,\n",
        "    num_epochs=1,\n",
        "    shuffle=False)\n",
        "\n",
        "predictions = est_cnn_0_trained.predict(input_fn=predict_input_fn)\n",
        "predictions = np.array([list(p.values())[0] for p in list(predictions)])\n",
        "\n",
        "print('predictions:\\n\\n{}'.format(predictions))"
      ],
      "execution_count": 11,
      "outputs": [
        {
          "output_type": "stream",
          "text": [
            "INFO:tensorflow:Could not find trained model in model_dir: /tmp/tmpliagcnq_, running initialization to predict.\n",
            "INFO:tensorflow:Calling model_fn.\n",
            "INFO:tensorflow:Done calling model_fn.\n",
            "INFO:tensorflow:Warm-starting with WarmStartSettings: WarmStartSettings(ckpt_to_initialize_from='/tmp/tmpliagcnq_/keras/keras_model.ckpt', vars_to_warm_start='.*', var_name_to_vocab_info={}, var_name_to_prev_var_name={})\n",
            "INFO:tensorflow:Warm-starting from: ('/tmp/tmpliagcnq_/keras/keras_model.ckpt',)\n",
            "INFO:tensorflow:Warm-starting variable: x/kernel; prev_var_name: Unchanged\n",
            "INFO:tensorflow:Warm-starting variable: x/bias; prev_var_name: Unchanged\n",
            "INFO:tensorflow:Warm-starting variable: conv2d_1/kernel; prev_var_name: Unchanged\n",
            "INFO:tensorflow:Warm-starting variable: conv2d_1/bias; prev_var_name: Unchanged\n",
            "INFO:tensorflow:Warm-starting variable: dense_2/kernel; prev_var_name: Unchanged\n",
            "INFO:tensorflow:Warm-starting variable: dense_2/bias; prev_var_name: Unchanged\n",
            "INFO:tensorflow:Warm-starting variable: dense_3/kernel; prev_var_name: Unchanged\n",
            "INFO:tensorflow:Warm-starting variable: dense_3/bias; prev_var_name: Unchanged\n",
            "INFO:tensorflow:Graph was finalized.\n",
            "INFO:tensorflow:Running local_init_op.\n",
            "INFO:tensorflow:Done running local_init_op.\n",
            "predictions:\n",
            "\n",
            "[[2.8064476e-11 3.3283971e-09 1.0850634e-07 ... 9.9999988e-01\n",
            "  1.2004127e-10 1.5902838e-08]\n",
            " [6.2748121e-08 4.9769245e-08 9.9999976e-01 ... 4.0298917e-11\n",
            "  2.6986688e-09 3.8073228e-13]\n",
            " [2.0214854e-11 9.9999988e-01 2.1791774e-08 ... 2.6558487e-08\n",
            "  2.5591409e-09 3.8980967e-12]\n",
            " ...\n",
            " [4.5749068e-18 6.1667177e-14 1.2265531e-16 ... 1.5473178e-12\n",
            "  2.7050570e-11 2.2396528e-10]\n",
            " [4.4803539e-11 8.8750443e-13 8.3432821e-13 ... 2.4842869e-12\n",
            "  3.6752607e-07 4.0979067e-11]\n",
            " [4.1433776e-10 7.4799186e-12 7.5399832e-11 ... 9.4400043e-16\n",
            "  4.5016793e-10 1.2225266e-12]]\n"
          ],
          "name": "stdout"
        }
      ]
    }
  ]
}